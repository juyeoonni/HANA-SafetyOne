{
 "cells": [
  {
   "cell_type": "code",
   "execution_count": 4,
   "metadata": {},
   "outputs": [],
   "source": [
    "import cx_Oracle\n",
    "import numpy as np\n",
    "import pandas as pd\n",
    "from faker import Faker\n",
    "from datetime import datetime, timedelta\n",
    "from random import randrange\n",
    "from datetime import timedelta\n",
    "import random\n",
    "import time"
   ]
  },
  {
   "cell_type": "code",
   "execution_count": 5,
   "metadata": {},
   "outputs": [],
   "source": [
    "connection = cx_Oracle.connect(user='scott', password='tiger', dsn='192.168.119.119:1521/dink11.dbsvr')\n",
    "cursor = connection.cursor()\n",
    "# cursor.close()"
   ]
  },
  {
   "cell_type": "markdown",
   "metadata": {},
   "source": [
    "## 지역 인코딩"
   ]
  },
  {
   "cell_type": "code",
   "execution_count": null,
   "metadata": {},
   "outputs": [],
   "source": [
    "# load region\n",
    "cursor = connection.cursor()\n",
    "sql=\"select * from region\"\n",
    "cursor.execute(sql)\n",
    "\n",
    "rows = cursor.fetchall()\n",
    "columns = ['regionCode','regionName']\n",
    "region = pd.DataFrame(rows, columns=columns)\n",
    "\n",
    "regionCode=region.regionCode.tolist()\n",
    "seoultToRegionTime=[70,70,130,130,180,180,170,300,290,240,200,250,230,230,300]\n",
    "seoultToRegionDistance=[40,40,100,131,163,132,152,406,376,300,225,365,327,228,500]\n",
    "\n",
    "sql = \"UPDATE region SET seoultToRegionTime = :1, seoultToRegionDistance = :2 WHERE regioncode = :3\"\n",
    "for i in range(len(regionCode)):\n",
    "    cursor.execute(sql, (seoultToRegionTime[i],seoultToRegionDistance[i],regionCode[i]))\n",
    "    \n",
    "connection.commit()\n",
    "cursor.close()"
   ]
  },
  {
   "cell_type": "markdown",
   "metadata": {},
   "source": [
    "## 업종 인코딩"
   ]
  },
  {
   "cell_type": "markdown",
   "metadata": {},
   "source": [
    "### FastText Pre-trained 한국어 모델 사용\n",
    "1. FastText 소개\n",
    "FastText는 Facebook에서 만든 word representation 과 sentence classification의 효율적인 학습을 위한 라이브러리\n",
    "2. Fast Text 설치 및 pre-trained 모델 다운받기\n",
    "3. Pre-trained 한국어 모델 적용"
   ]
  },
  {
   "cell_type": "code",
   "execution_count": null,
   "metadata": {},
   "outputs": [],
   "source": [
    "from gensim import models\n",
    "\n",
    "ko_model = models.fasttext.load_facebook_model(\"C:/Users/pooh5/Downloads/cc.ko.300-001.bin\")\n",
    "for w, sim in ko_model.wv.similar_by_word('파이썬', 10):\n",
    "    print(f'{w}: {sim}')\n",
    "    \n",
    "ko_model.wv.vectors.shape\n",
    "\n",
    "# 한글 폰트 사용을 위해서 세팅\n",
    "from matplotlib import font_manager, rc\n",
    "font_path = \"C:/Windows/Fonts/NGULIM.TTF\"\n",
    "font = font_manager.FontProperties(fname=font_path).get_name()\n",
    "rc('font', family=font)\n"
   ]
  },
  {
   "cell_type": "code",
   "execution_count": null,
   "metadata": {},
   "outputs": [],
   "source": [
    "# load category\n",
    "cursor = connection.cursor()\n",
    "sql=\"select * from category\"\n",
    "cursor.execute(sql)\n",
    "\n",
    "rows = cursor.fetchall()\n",
    "cursor.close()\n",
    "columns = ['categoryCode','categoryBig','categoryMiddle','categorySmall']\n",
    "category = pd.DataFrame(rows, columns=columns)\n",
    "\n",
    "# 단어들 간에 유사도 확인\n",
    "# 유흥업소 기준 encoding\n",
    "words = category['categorySmall'].tolist()[:]\n",
    "word_embedding = []\n",
    "for w in words:\n",
    "    # print('유흥업소',str(w),': ',ko_model.wv.similarity('유흥업소', w))\n",
    "    word_embedding.append(ko_model.wv.similarity('유흥업소', w))\n",
    "category['barToEmbedding'] = word_embedding\n",
    "category.loc[category['categorySmall'] == '기타유흥업소', 'barToEmbedding'] = 1\n",
    "\n",
    "# 단어들 간에 유사도 확인\n",
    "# 귀금속 기준 encoding\n",
    "words = category['categorySmall'].tolist()[:]\n",
    "word_embedding = []\n",
    "for w in words:\n",
    "    # print('귀금속',str(w),': ',ko_model.wv.similarity('귀금속', w))\n",
    "    word_embedding.append(ko_model.wv.similarity('귀금속', w))\n",
    "category['diamondToEmbedding'] = word_embedding\n",
    "\n",
    "categorySmall=category.categorySmall.tolist()\n",
    "barToEmbedding=category.barToEmbedding.tolist()\n",
    "diamondToEmbedding=category.diamondToEmbedding.tolist()\n",
    "\n",
    "cursor = connection.cursor()\n",
    "sql = \"UPDATE category SET barToEmbedding = :1, diamondToEmbedding = :2 WHERE categorySmall = :3\"\n",
    "for i in range(len(categorySmall)):\n",
    "    cursor.execute(sql, (barToEmbedding[i],diamondToEmbedding[i],categorySmall[i]))\n",
    "    \n",
    "connection.commit()\n",
    "cursor.close()\n"
   ]
  }
 ],
 "metadata": {
  "kernelspec": {
   "display_name": "py37",
   "language": "python",
   "name": "python3"
  },
  "language_info": {
   "codemirror_mode": {
    "name": "ipython",
    "version": 3
   },
   "file_extension": ".py",
   "mimetype": "text/x-python",
   "name": "python",
   "nbconvert_exporter": "python",
   "pygments_lexer": "ipython3",
   "version": "3.7.16"
  },
  "orig_nbformat": 4
 },
 "nbformat": 4,
 "nbformat_minor": 2
}
