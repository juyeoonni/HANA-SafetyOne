{
 "cells": [
  {
   "cell_type": "code",
   "execution_count": 18,
   "metadata": {},
   "outputs": [],
   "source": [
    "#%\n",
    "import os\n",
    "import pandas as pd\n",
    "import numpy as np\n",
    "from sklearn.preprocessing import LabelEncoder\n",
    "from sklearn.cluster import KMeans\n",
    "import matplotlib.pyplot as plt\n",
    "import tqdm\n",
    "import cx_Oracle\n",
    "\n",
    "connection = cx_Oracle.connect(user='scott', password='tiger', dsn='192.168.119.119:1521/dink11.dbsvr')\n",
    "cursor = connection.cursor()\n",
    "sql=\"select categorySmall, convenienceToEmbedding from CATEGORYembedding\"\n",
    "cursor.execute(sql)\n",
    "rows = cursor.fetchall()\n",
    "columns = ['categorySmall','convenienceToEmbedding']\n",
    "category = pd.DataFrame(rows, columns=columns)\n",
    "\n",
    "sql=\"SELECT c.email as email,ch.categorySmall, ch.amount FROM cardhistory ch JOIN card c ON ch.cardid = c.cardid WHERE ch.cardhisdate >= TO_DATE('2023-07-07', 'YYYY-MM-DD')\"\n",
    "cursor.execute(sql)\n",
    "rows = cursor.fetchall()\n",
    "columns = ['email','categorySmall','amount']\n",
    "data = pd.DataFrame(rows, columns=columns)\n",
    "data['categoryEmbedding'] = data['categorySmall'].replace(category.set_index('categorySmall')['convenienceToEmbedding'])\n",
    "userList=data['email'].unique()"
   ]
  },
  {
   "cell_type": "code",
   "execution_count": 19,
   "metadata": {},
   "outputs": [
    {
     "name": "stderr",
     "output_type": "stream",
     "text": [
      "7343it [28:21,  4.32it/s]"
     ]
    },
    {
     "name": "stdout",
     "output_type": "stream",
     "text": [
      "7343\n",
      "7343\n",
      "7343\n"
     ]
    },
    {
     "name": "stderr",
     "output_type": "stream",
     "text": [
      "\n"
     ]
    },
    {
     "data": {
      "text/html": [
       "<div>\n",
       "<style scoped>\n",
       "    .dataframe tbody tr th:only-of-type {\n",
       "        vertical-align: middle;\n",
       "    }\n",
       "\n",
       "    .dataframe tbody tr th {\n",
       "        vertical-align: top;\n",
       "    }\n",
       "\n",
       "    .dataframe thead th {\n",
       "        text-align: right;\n",
       "    }\n",
       "</style>\n",
       "<table border=\"1\" class=\"dataframe\">\n",
       "  <thead>\n",
       "    <tr style=\"text-align: right;\">\n",
       "      <th></th>\n",
       "      <th>email</th>\n",
       "      <th>categorySmall</th>\n",
       "      <th>embedding_mode</th>\n",
       "      <th>amount</th>\n",
       "    </tr>\n",
       "  </thead>\n",
       "  <tbody>\n",
       "    <tr>\n",
       "      <th>0</th>\n",
       "      <td>pooh5045@naver.com</td>\n",
       "      <td>한식</td>\n",
       "      <td>0.178922</td>\n",
       "      <td>25612</td>\n",
       "    </tr>\n",
       "    <tr>\n",
       "      <th>1</th>\n",
       "      <td>icoe@gmail.com</td>\n",
       "      <td>제과점</td>\n",
       "      <td>0.432291</td>\n",
       "      <td>29808</td>\n",
       "    </tr>\n",
       "    <tr>\n",
       "      <th>2</th>\n",
       "      <td>gyeongsuson@naver.com</td>\n",
       "      <td>제과점</td>\n",
       "      <td>0.432291</td>\n",
       "      <td>63510</td>\n",
       "    </tr>\n",
       "    <tr>\n",
       "      <th>3</th>\n",
       "      <td>zjang@dreamwiz.com</td>\n",
       "      <td>제과점</td>\n",
       "      <td>0.178922</td>\n",
       "      <td>128854</td>\n",
       "    </tr>\n",
       "    <tr>\n",
       "      <th>4</th>\n",
       "      <td>ohaeun@hanmail.net</td>\n",
       "      <td>편의점</td>\n",
       "      <td>1.000000</td>\n",
       "      <td>112158</td>\n",
       "    </tr>\n",
       "    <tr>\n",
       "      <th>...</th>\n",
       "      <td>...</td>\n",
       "      <td>...</td>\n",
       "      <td>...</td>\n",
       "      <td>...</td>\n",
       "    </tr>\n",
       "    <tr>\n",
       "      <th>7338</th>\n",
       "      <td>hasunja@hotmail.com</td>\n",
       "      <td>한식</td>\n",
       "      <td>0.178922</td>\n",
       "      <td>107880</td>\n",
       "    </tr>\n",
       "    <tr>\n",
       "      <th>7339</th>\n",
       "      <td>minsu61@daum.net</td>\n",
       "      <td>한식</td>\n",
       "      <td>0.178922</td>\n",
       "      <td>78879</td>\n",
       "    </tr>\n",
       "    <tr>\n",
       "      <th>7340</th>\n",
       "      <td>songyeongsug@daum.net</td>\n",
       "      <td>한식</td>\n",
       "      <td>0.178922</td>\n",
       "      <td>47522</td>\n",
       "    </tr>\n",
       "    <tr>\n",
       "      <th>7341</th>\n",
       "      <td>mijeong17@live.com</td>\n",
       "      <td>한식</td>\n",
       "      <td>0.178922</td>\n",
       "      <td>115254</td>\n",
       "    </tr>\n",
       "    <tr>\n",
       "      <th>7342</th>\n",
       "      <td>bhwang@live.com</td>\n",
       "      <td>일식/중식/양식</td>\n",
       "      <td>0.212529</td>\n",
       "      <td>111200</td>\n",
       "    </tr>\n",
       "  </tbody>\n",
       "</table>\n",
       "<p>7343 rows × 4 columns</p>\n",
       "</div>"
      ],
      "text/plain": [
       "                      email categorySmall  embedding_mode  amount\n",
       "0        pooh5045@naver.com            한식        0.178922   25612\n",
       "1            icoe@gmail.com           제과점        0.432291   29808\n",
       "2     gyeongsuson@naver.com           제과점        0.432291   63510\n",
       "3        zjang@dreamwiz.com           제과점        0.178922  128854\n",
       "4        ohaeun@hanmail.net           편의점        1.000000  112158\n",
       "...                     ...           ...             ...     ...\n",
       "7338    hasunja@hotmail.com            한식        0.178922  107880\n",
       "7339       minsu61@daum.net            한식        0.178922   78879\n",
       "7340  songyeongsug@daum.net            한식        0.178922   47522\n",
       "7341     mijeong17@live.com            한식        0.178922  115254\n",
       "7342        bhwang@live.com      일식/중식/양식        0.212529  111200\n",
       "\n",
       "[7343 rows x 4 columns]"
      ]
     },
     "execution_count": 19,
     "metadata": {},
     "output_type": "execute_result"
    }
   ],
   "source": [
    "mode_card_df = {'email': [], 'categorySmall' : [], 'embedding_mode' : [],'amount':[]}\n",
    "for i, userId in tqdm.tqdm(enumerate(userList)):\n",
    "    '''\n",
    "    _df : 카드 거래 내역 중 카드번호 같은 것 끼리 모은 임시 df\n",
    "    mean_card_df : 카드번호 같은 것들 중, 최빈값 업종을 뽑아서 대표 업종으로 만든 df\n",
    "    '''\n",
    "    _df = data[data['email']==userId][['categorySmall', 'categoryEmbedding','amount']]\n",
    "    # print(_df)\n",
    "    # print(_df['categorySmall'].mode().iloc[0])\n",
    "    # print(_df['amount'].mean())\n",
    "\n",
    "    mode_card_df['email'].append(userId)\n",
    "    mode_card_df['categorySmall'].append(_df['categorySmall'].mode().iloc[0])\n",
    "    mode_card_df['embedding_mode'].append(_df['categoryEmbedding'].mode().iloc[0])\n",
    "    mode_card_df['amount'].append(_df['amount'].mean())\n",
    "    \n",
    "# mode_card_df = pd.DataFrame(mode_card_df)\n",
    "# print(mode_card_df)\n",
    "print(len(mode_card_df['email']))\n",
    "print(len(mode_card_df['categorySmall']))\n",
    "print(len(mode_card_df['amount']))\n",
    "mode_card_df = pd.DataFrame(mode_card_df)\n",
    "mode_card_df['amount'] = mode_card_df['amount'].astype(int)\n",
    "mode_card_df"
   ]
  },
  {
   "cell_type": "code",
   "execution_count": 20,
   "metadata": {},
   "outputs": [
    {
     "name": "stdout",
     "output_type": "stream",
     "text": [
      "(7343, 2)\n"
     ]
    },
    {
     "name": "stdout",
     "output_type": "stream",
     "text": [
      "7343\n"
     ]
    }
   ],
   "source": [
    "from sklearn.cluster import KMeans\n",
    "\n",
    "n_clusters = 5\n",
    "X = np.array(list(zip(mode_card_df['embedding_mode'].values, mode_card_df['amount'].values)))\n",
    "print(X.shape)\n",
    "\n",
    "kmeans = KMeans(n_clusters=n_clusters)\n",
    "kmeans.fit(X)\n",
    "cluster_labels = kmeans.labels_\n",
    "print(len(cluster_labels))\n",
    "mode_card_df['Cluster'] = cluster_labels\n",
    "mode_card_df['Cluster']=mode_card_df['Cluster'].astype(str)"
   ]
  },
  {
   "cell_type": "code",
   "execution_count": 21,
   "metadata": {},
   "outputs": [
    {
     "data": {
      "text/plain": [
       "4    2453\n",
       "1    1810\n",
       "0    1663\n",
       "3    1014\n",
       "2     403\n",
       "Name: Cluster, dtype: int64"
      ]
     },
     "execution_count": 21,
     "metadata": {},
     "output_type": "execute_result"
    }
   ],
   "source": [
    "mode_card_df['Cluster'].value_counts()"
   ]
  },
  {
   "cell_type": "code",
   "execution_count": 22,
   "metadata": {},
   "outputs": [],
   "source": [
    "connection = cx_Oracle.connect(user='scott', password='tiger', dsn='192.168.119.119:1521/dink11.dbsvr')\n",
    "cursor = connection.cursor()\n",
    "insertSql=\"INSERT INTO clusterTable (email,clusterNum) values(:1,:2)\"\n",
    "for i in range(len(mode_card_df)):\n",
    "    cursor.execute(insertSql, (mode_card_df.loc[i,'email'],mode_card_df.loc[i,'Cluster']))\n",
    "connection.commit()\n",
    "cursor.close()\n",
    "connection.close()  "
   ]
  },
  {
   "cell_type": "code",
   "execution_count": null,
   "metadata": {},
   "outputs": [],
   "source": []
  }
 ],
 "metadata": {
  "kernelspec": {
   "display_name": "py37",
   "language": "python",
   "name": "py37"
  },
  "language_info": {
   "codemirror_mode": {
    "name": "ipython",
    "version": 3
   },
   "file_extension": ".py",
   "mimetype": "text/x-python",
   "name": "python",
   "nbconvert_exporter": "python",
   "pygments_lexer": "ipython3",
   "version": "3.7.16"
  },
  "orig_nbformat": 4
 },
 "nbformat": 4,
 "nbformat_minor": 2
}
