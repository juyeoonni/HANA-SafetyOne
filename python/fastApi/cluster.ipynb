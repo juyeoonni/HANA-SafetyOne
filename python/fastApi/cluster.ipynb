{
 "cells": [
  {
   "cell_type": "code",
   "execution_count": 38,
   "metadata": {},
   "outputs": [],
   "source": [
    "#%\n",
    "import os\n",
    "import pandas as pd\n",
    "import numpy as np\n",
    "from sklearn.preprocessing import LabelEncoder\n",
    "from sklearn.cluster import KMeans\n",
    "import matplotlib.pyplot as plt\n",
    "import tqdm\n",
    "import cx_Oracle\n",
    "\n",
    "connection = cx_Oracle.connect(user='scott', password='tiger', dsn='192.168.119.119:1521/dink11.dbsvr')\n",
    "cursor = connection.cursor()\n",
    "sql=\"select categorySmall, convenienceToEmbedding from CATEGORYembedding\"\n",
    "cursor.execute(sql)\n",
    "rows = cursor.fetchall()\n",
    "columns = ['categorySmall','convenienceToEmbedding']\n",
    "category = pd.DataFrame(rows, columns=columns)\n",
    "\n",
    "sql=\"SELECT c.email as email,ch.categorySmall, ch.amount FROM cardhistory ch JOIN card c ON ch.cardid = c.cardid WHERE ch.cardhisdate >= TO_DATE('2023-07-07', 'YYYY-MM-DD')\"\n",
    "cursor.execute(sql)\n",
    "rows = cursor.fetchall()\n",
    "columns = ['email','categorySmall','amount']\n",
    "data = pd.DataFrame(rows, columns=columns)\n",
    "data['categoryEmbedding'] = data['categorySmall'].replace(category.set_index('categorySmall')['convenienceToEmbedding'])\n",
    "userList=data['email'].unique()"
   ]
  },
  {
   "cell_type": "code",
   "execution_count": 39,
   "metadata": {},
   "outputs": [
    {
     "name": "stderr",
     "output_type": "stream",
     "text": [
      "0it [00:00, ?it/s]"
     ]
    },
    {
     "name": "stderr",
     "output_type": "stream",
     "text": [
      "2503it [01:27, 28.49it/s]"
     ]
    },
    {
     "name": "stdout",
     "output_type": "stream",
     "text": [
      "2503\n",
      "2503\n",
      "2503\n"
     ]
    },
    {
     "name": "stderr",
     "output_type": "stream",
     "text": [
      "\n"
     ]
    },
    {
     "data": {
      "text/html": [
       "<div>\n",
       "<style scoped>\n",
       "    .dataframe tbody tr th:only-of-type {\n",
       "        vertical-align: middle;\n",
       "    }\n",
       "\n",
       "    .dataframe tbody tr th {\n",
       "        vertical-align: top;\n",
       "    }\n",
       "\n",
       "    .dataframe thead th {\n",
       "        text-align: right;\n",
       "    }\n",
       "</style>\n",
       "<table border=\"1\" class=\"dataframe\">\n",
       "  <thead>\n",
       "    <tr style=\"text-align: right;\">\n",
       "      <th></th>\n",
       "      <th>email</th>\n",
       "      <th>categorySmall</th>\n",
       "      <th>embedding_mode</th>\n",
       "      <th>amount</th>\n",
       "    </tr>\n",
       "  </thead>\n",
       "  <tbody>\n",
       "    <tr>\n",
       "      <th>0</th>\n",
       "      <td>pooh5045@naver.com</td>\n",
       "      <td>한식</td>\n",
       "      <td>0.178922</td>\n",
       "      <td>47435</td>\n",
       "    </tr>\n",
       "    <tr>\n",
       "      <th>1</th>\n",
       "      <td>boramgim@gmail.com</td>\n",
       "      <td>일반병원</td>\n",
       "      <td>0.181306</td>\n",
       "      <td>84146</td>\n",
       "    </tr>\n",
       "    <tr>\n",
       "      <th>2</th>\n",
       "      <td>ihaeun@daum.net</td>\n",
       "      <td>일반병원</td>\n",
       "      <td>0.181306</td>\n",
       "      <td>78753</td>\n",
       "    </tr>\n",
       "    <tr>\n",
       "      <th>3</th>\n",
       "      <td>tson@naver.com</td>\n",
       "      <td>종합병원</td>\n",
       "      <td>0.229899</td>\n",
       "      <td>59513</td>\n",
       "    </tr>\n",
       "    <tr>\n",
       "      <th>4</th>\n",
       "      <td>juweongim@live.com</td>\n",
       "      <td>취미/오락</td>\n",
       "      <td>0.123046</td>\n",
       "      <td>112264</td>\n",
       "    </tr>\n",
       "    <tr>\n",
       "      <th>...</th>\n",
       "      <td>...</td>\n",
       "      <td>...</td>\n",
       "      <td>...</td>\n",
       "      <td>...</td>\n",
       "    </tr>\n",
       "    <tr>\n",
       "      <th>2498</th>\n",
       "      <td>jihyegang@dreamwiz.com</td>\n",
       "      <td>제과점</td>\n",
       "      <td>0.432291</td>\n",
       "      <td>76515</td>\n",
       "    </tr>\n",
       "    <tr>\n",
       "      <th>2499</th>\n",
       "      <td>jeongjai@naver.com</td>\n",
       "      <td>약국</td>\n",
       "      <td>0.391269</td>\n",
       "      <td>76120</td>\n",
       "    </tr>\n",
       "    <tr>\n",
       "      <th>2500</th>\n",
       "      <td>sunja84@hanmail.net</td>\n",
       "      <td>일식/중식/양식</td>\n",
       "      <td>0.212529</td>\n",
       "      <td>119173</td>\n",
       "    </tr>\n",
       "    <tr>\n",
       "      <th>2501</th>\n",
       "      <td>yunjihu@hanmail.net</td>\n",
       "      <td>제과점</td>\n",
       "      <td>0.372090</td>\n",
       "      <td>102954</td>\n",
       "    </tr>\n",
       "    <tr>\n",
       "      <th>2502</th>\n",
       "      <td>ogsunhan@daum.net</td>\n",
       "      <td>커피전문점</td>\n",
       "      <td>0.439538</td>\n",
       "      <td>120113</td>\n",
       "    </tr>\n",
       "  </tbody>\n",
       "</table>\n",
       "<p>2503 rows × 4 columns</p>\n",
       "</div>"
      ],
      "text/plain": [
       "                       email categorySmall  embedding_mode  amount\n",
       "0         pooh5045@naver.com            한식        0.178922   47435\n",
       "1         boramgim@gmail.com          일반병원        0.181306   84146\n",
       "2            ihaeun@daum.net          일반병원        0.181306   78753\n",
       "3             tson@naver.com          종합병원        0.229899   59513\n",
       "4         juweongim@live.com         취미/오락        0.123046  112264\n",
       "...                      ...           ...             ...     ...\n",
       "2498  jihyegang@dreamwiz.com           제과점        0.432291   76515\n",
       "2499      jeongjai@naver.com            약국        0.391269   76120\n",
       "2500     sunja84@hanmail.net      일식/중식/양식        0.212529  119173\n",
       "2501     yunjihu@hanmail.net           제과점        0.372090  102954\n",
       "2502       ogsunhan@daum.net         커피전문점        0.439538  120113\n",
       "\n",
       "[2503 rows x 4 columns]"
      ]
     },
     "execution_count": 39,
     "metadata": {},
     "output_type": "execute_result"
    }
   ],
   "source": [
    "mode_card_df = {'email': [], 'categorySmall' : [], 'embedding_mode' : [],'amount':[]}\n",
    "for i, userId in tqdm.tqdm(enumerate(userList)):\n",
    "    '''\n",
    "    _df : 카드 거래 내역 중 카드번호 같은 것 끼리 모은 임시 df\n",
    "    mean_card_df : 카드번호 같은 것들 중, 최빈값 업종을 뽑아서 대표 업종으로 만든 df\n",
    "    '''\n",
    "    _df = data[data['email']==userId][['categorySmall', 'categoryEmbedding','amount']]\n",
    "    # print(_df)\n",
    "    # print(_df['categorySmall'].mode().iloc[0])\n",
    "    # print(_df['amount'].mean())\n",
    "\n",
    "    mode_card_df['email'].append(userId)\n",
    "    mode_card_df['categorySmall'].append(_df['categorySmall'].mode().iloc[0])\n",
    "    mode_card_df['embedding_mode'].append(_df['categoryEmbedding'].mode().iloc[0])\n",
    "    mode_card_df['amount'].append(_df['amount'].mean())\n",
    "    \n",
    "# mode_card_df = pd.DataFrame(mode_card_df)\n",
    "# print(mode_card_df)\n",
    "print(len(mode_card_df['email']))\n",
    "print(len(mode_card_df['categorySmall']))\n",
    "print(len(mode_card_df['amount']))\n",
    "mode_card_df = pd.DataFrame(mode_card_df)\n",
    "mode_card_df['amount'] = mode_card_df['amount'].astype(int)\n",
    "mode_card_df"
   ]
  },
  {
   "cell_type": "code",
   "execution_count": 40,
   "metadata": {},
   "outputs": [
    {
     "name": "stdout",
     "output_type": "stream",
     "text": [
      "(2503, 2)\n",
      "2503\n"
     ]
    }
   ],
   "source": [
    "from sklearn.cluster import KMeans\n",
    "\n",
    "n_clusters = 4\n",
    "X = np.array(list(zip(mode_card_df['embedding_mode'].values, mode_card_df['amount'].values)))\n",
    "print(X.shape)\n",
    "\n",
    "kmeans = KMeans(n_clusters=n_clusters)\n",
    "kmeans.fit(X)\n",
    "cluster_labels = kmeans.labels_\n",
    "print(len(cluster_labels))\n",
    "mode_card_df['Cluster'] = cluster_labels\n",
    "mode_card_df['Cluster']=mode_card_df['Cluster'].astype(str)"
   ]
  },
  {
   "cell_type": "code",
   "execution_count": 41,
   "metadata": {},
   "outputs": [
    {
     "data": {
      "text/plain": [
       "3    894\n",
       "0    867\n",
       "1    534\n",
       "2    208\n",
       "Name: Cluster, dtype: int64"
      ]
     },
     "execution_count": 41,
     "metadata": {},
     "output_type": "execute_result"
    }
   ],
   "source": [
    "mode_card_df['Cluster'].value_counts()"
   ]
  },
  {
   "cell_type": "code",
   "execution_count": 42,
   "metadata": {},
   "outputs": [
    {
     "ename": "IntegrityError",
     "evalue": "ORA-00001: 무결성 제약 조건(SCOTT.SYS_C008520)에 위배됩니다",
     "output_type": "error",
     "traceback": [
      "\u001b[1;31m---------------------------------------------------------------------------\u001b[0m",
      "\u001b[1;31mIntegrityError\u001b[0m                            Traceback (most recent call last)",
      "\u001b[1;32m~\\AppData\\Local\\Temp\\ipykernel_15912\\3092133639.py\u001b[0m in \u001b[0;36m<module>\u001b[1;34m\u001b[0m\n\u001b[0;32m      3\u001b[0m \u001b[0minsertSql\u001b[0m\u001b[1;33m=\u001b[0m\u001b[1;34m\"INSERT INTO clusterTable (email,clusterNum) values(:1,:2)\"\u001b[0m\u001b[1;33m\u001b[0m\u001b[1;33m\u001b[0m\u001b[0m\n\u001b[0;32m      4\u001b[0m \u001b[1;32mfor\u001b[0m \u001b[0mi\u001b[0m \u001b[1;32min\u001b[0m \u001b[0mrange\u001b[0m\u001b[1;33m(\u001b[0m\u001b[0mlen\u001b[0m\u001b[1;33m(\u001b[0m\u001b[0mmode_card_df\u001b[0m\u001b[1;33m)\u001b[0m\u001b[1;33m)\u001b[0m\u001b[1;33m:\u001b[0m\u001b[1;33m\u001b[0m\u001b[1;33m\u001b[0m\u001b[0m\n\u001b[1;32m----> 5\u001b[1;33m     \u001b[0mcursor\u001b[0m\u001b[1;33m.\u001b[0m\u001b[0mexecute\u001b[0m\u001b[1;33m(\u001b[0m\u001b[0minsertSql\u001b[0m\u001b[1;33m,\u001b[0m \u001b[1;33m(\u001b[0m\u001b[0mmode_card_df\u001b[0m\u001b[1;33m.\u001b[0m\u001b[0mloc\u001b[0m\u001b[1;33m[\u001b[0m\u001b[0mi\u001b[0m\u001b[1;33m,\u001b[0m\u001b[1;34m'email'\u001b[0m\u001b[1;33m]\u001b[0m\u001b[1;33m,\u001b[0m\u001b[0mmode_card_df\u001b[0m\u001b[1;33m.\u001b[0m\u001b[0mloc\u001b[0m\u001b[1;33m[\u001b[0m\u001b[0mi\u001b[0m\u001b[1;33m,\u001b[0m\u001b[1;34m'Cluster'\u001b[0m\u001b[1;33m]\u001b[0m\u001b[1;33m)\u001b[0m\u001b[1;33m)\u001b[0m\u001b[1;33m\u001b[0m\u001b[1;33m\u001b[0m\u001b[0m\n\u001b[0m\u001b[0;32m      6\u001b[0m \u001b[0mconnection\u001b[0m\u001b[1;33m.\u001b[0m\u001b[0mcommit\u001b[0m\u001b[1;33m(\u001b[0m\u001b[1;33m)\u001b[0m\u001b[1;33m\u001b[0m\u001b[1;33m\u001b[0m\u001b[0m\n\u001b[0;32m      7\u001b[0m \u001b[0mcursor\u001b[0m\u001b[1;33m.\u001b[0m\u001b[0mclose\u001b[0m\u001b[1;33m(\u001b[0m\u001b[1;33m)\u001b[0m\u001b[1;33m\u001b[0m\u001b[1;33m\u001b[0m\u001b[0m\n",
      "\u001b[1;31mIntegrityError\u001b[0m: ORA-00001: 무결성 제약 조건(SCOTT.SYS_C008520)에 위배됩니다"
     ]
    }
   ],
   "source": [
    "connection = cx_Oracle.connect(user='scott', password='tiger', dsn='192.168.119.119:1521/dink11.dbsvr')\n",
    "cursor = connection.cursor()\n",
    "insertSql=\"INSERT INTO clusterTable (email,clusterNum) values(:1,:2)\"\n",
    "for i in range(len(mode_card_df)):\n",
    "    cursor.execute(insertSql, (mode_card_df.loc[i,'email'],mode_card_df.loc[i,'Cluster']))\n",
    "connection.commit()\n",
    "cursor.close()\n",
    "connection.close()  "
   ]
  },
  {
   "cell_type": "code",
   "execution_count": 44,
   "metadata": {},
   "outputs": [
    {
     "ename": "InterfaceError",
     "evalue": "not open",
     "output_type": "error",
     "traceback": [
      "\u001b[1;31m---------------------------------------------------------------------------\u001b[0m",
      "\u001b[1;31mInterfaceError\u001b[0m                            Traceback (most recent call last)",
      "\u001b[1;32m~\\AppData\\Local\\Temp\\ipykernel_15912\\2027503503.py\u001b[0m in \u001b[0;36m<module>\u001b[1;34m\u001b[0m\n\u001b[1;32m----> 1\u001b[1;33m \u001b[0mcursor\u001b[0m\u001b[1;33m.\u001b[0m\u001b[0mclose\u001b[0m\u001b[1;33m(\u001b[0m\u001b[1;33m)\u001b[0m\u001b[1;33m\u001b[0m\u001b[1;33m\u001b[0m\u001b[0m\n\u001b[0m\u001b[0;32m      2\u001b[0m \u001b[0mconnection\u001b[0m\u001b[1;33m.\u001b[0m\u001b[0mclose\u001b[0m\u001b[1;33m(\u001b[0m\u001b[1;33m)\u001b[0m\u001b[1;33m\u001b[0m\u001b[1;33m\u001b[0m\u001b[0m\n",
      "\u001b[1;31mInterfaceError\u001b[0m: not open"
     ]
    }
   ],
   "source": [
    "cursor.close()\n",
    "connection.close()  "
   ]
  },
  {
   "cell_type": "code",
   "execution_count": null,
   "metadata": {},
   "outputs": [],
   "source": []
  },
  {
   "cell_type": "code",
   "execution_count": null,
   "metadata": {},
   "outputs": [],
   "source": []
  },
  {
   "cell_type": "code",
   "execution_count": null,
   "metadata": {},
   "outputs": [],
   "source": []
  },
  {
   "cell_type": "code",
   "execution_count": null,
   "metadata": {},
   "outputs": [],
   "source": []
  },
  {
   "cell_type": "code",
   "execution_count": null,
   "metadata": {},
   "outputs": [],
   "source": []
  }
 ],
 "metadata": {
  "kernelspec": {
   "display_name": "py37",
   "language": "python",
   "name": "python3"
  },
  "language_info": {
   "codemirror_mode": {
    "name": "ipython",
    "version": 3
   },
   "file_extension": ".py",
   "mimetype": "text/x-python",
   "name": "python",
   "nbconvert_exporter": "python",
   "pygments_lexer": "ipython3",
   "version": "3.7.16"
  },
  "orig_nbformat": 4
 },
 "nbformat": 4,
 "nbformat_minor": 2
}
